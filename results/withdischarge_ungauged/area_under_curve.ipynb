{
 "cells": [
  {
   "cell_type": "code",
   "execution_count": 15,
   "metadata": {},
   "outputs": [],
   "source": [
    "import pandas as pd\n",
    "import numpy as np\n",
    "import matplotlib.pyplot as plt\n",
    "import seaborn as sns\n",
    "from sklearn.metrics import auc\n",
    "from scipy.integrate import simps"
   ]
  },
  {
   "cell_type": "code",
   "execution_count": 35,
   "metadata": {},
   "outputs": [],
   "source": [
    "#Area calculations for Runoff coefficient\n",
    "file_path = r'y_obs.csv'\n",
    "y_obs = pd.read_csv(file_path, parse_dates=[0])\n",
    "# Set the unnamed first column (dates) as the index\n",
    "y_obs.set_index(y_obs.columns[0],inplace=True)\n",
    "#y_obs = y_obs.to_numpy()\n",
    "file_path = r'y_sim.csv'\n",
    "y_sim = pd.read_csv(file_path, parse_dates=[0])\n",
    "# Set the unnamed first column (dates) as the index\n",
    "y_sim.set_index(y_sim.columns[0],inplace=True)\n",
    "#y_sim = y_sim.to_numpy()\n",
    "streamflow_df = pd.read_csv(r'testde_2.csv', parse_dates=True, index_col=0)\n",
    "eobs_df = pd.read_csv(r'precip_eobs_schwarzbach.csv', parse_dates=True, index_col=0)\n"
   ]
  },
  {
   "cell_type": "code",
   "execution_count": 36,
   "metadata": {},
   "outputs": [],
   "source": [
    "start_date = '2016-06-07'\n",
    "end_date = '2016-06-09'\n",
    "catchment = 'testde_2' \n",
    "y_obs_filtered = y_obs.loc[start_date:end_date, catchment]\n",
    "y_sim_filtered = y_sim.loc[start_date:end_date, catchment]\n",
    "eobs_df = eobs_df.loc[start_date:end_date,:]\n"
   ]
  },
  {
   "cell_type": "code",
   "execution_count": 28,
   "metadata": {},
   "outputs": [
    {
     "data": {
      "text/plain": [
       "Index(['testde_2'], dtype='object')"
      ]
     },
     "execution_count": 28,
     "metadata": {},
     "output_type": "execute_result"
    }
   ],
   "source": [
    "df = pd.DataFrame(y_obs_filtered)\n",
    "df.columns"
   ]
  },
  {
   "cell_type": "code",
   "execution_count": 34,
   "metadata": {},
   "outputs": [
    {
     "data": {
      "text/plain": [
       "10.620000000000001"
      ]
     },
     "execution_count": 34,
     "metadata": {},
     "output_type": "execute_result"
    }
   ],
   "source": [
    "#P_era5\n",
    "df = pd.DataFrame(y_obs_filtered)\n",
    "df['Unnamed: 0'] = pd.to_datetime(df.index)\n",
    "\n",
    "# Calculate the area under the curve using the trapezoidal rule\n",
    "y = df['testde_2'].values\n",
    "x = (df['Unnamed: 0'] - df['Unnamed: 0'].min()).dt.days.values\n",
    "\n",
    "# Use the trapezoidal rule to calculate the area under the curve\n",
    "p_era5 = auc(x,y)\n",
    "p_era5\n"
   ]
  },
  {
   "cell_type": "code",
   "execution_count": 33,
   "metadata": {},
   "outputs": [
    {
     "data": {
      "text/plain": [
       "16.448403399999997"
      ]
     },
     "execution_count": 33,
     "metadata": {},
     "output_type": "execute_result"
    }
   ],
   "source": [
    "#P_lstm\n",
    "df = pd.DataFrame(y_sim_filtered)\n",
    "df['Unnamed: 0'] = pd.to_datetime(df.index)\n",
    "\n",
    "# Calculate the area under the curve using the trapezoidal rule\n",
    "y = df['testde_2'].values\n",
    "x = (df['Unnamed: 0'] - df['Unnamed: 0'].min()).dt.days.values\n",
    "\n",
    "# Use the trapezoidal rule to calculate the area under the curve\n",
    "p_lstm = auc(x,y)\n",
    "p_lstm"
   ]
  },
  {
   "cell_type": "code",
   "execution_count": 38,
   "metadata": {},
   "outputs": [
    {
     "data": {
      "text/plain": [
       "20.0264890047834"
      ]
     },
     "execution_count": 38,
     "metadata": {},
     "output_type": "execute_result"
    }
   ],
   "source": [
    "#P_eobs\n",
    "df = pd.DataFrame(eobs_df)\n",
    "df['Unnamed: 0'] = pd.to_datetime(df.index)\n",
    "\n",
    "# Calculate the area under the curve using the trapezoidal rule\n",
    "y = df['value'].values\n",
    "x = (df['Unnamed: 0'] - df['Unnamed: 0'].min()).dt.days.values\n",
    "\n",
    "# Use the trapezoidal rule to calculate the area under the curve\n",
    "p_eobs = auc(x,y)\n",
    "p_eobs"
   ]
  },
  {
   "cell_type": "code",
   "execution_count": 55,
   "metadata": {},
   "outputs": [
    {
     "data": {
      "text/plain": [
       "3.7500000000000004"
      ]
     },
     "execution_count": 55,
     "metadata": {},
     "output_type": "execute_result"
    }
   ],
   "source": [
    "streamflow_filtered = streamflow_df.loc[start_date:end_date, 'streamflow']\n",
    "df=pd.DataFrame(streamflow_filtered)\n",
    "# Subtract the constant baseflow value (e.g., 2)\n",
    "baseflow_value = 1.1\n",
    "df['adjusted_discharge'] = df['streamflow'] - baseflow_value\n",
    "df['date'] = pd.to_datetime(df.index)\n",
    "# Convert dates to numerical values (e.g., number of days since the start)\n",
    "df['days'] = (df['date'] - df['date'].min()).dt.days\n",
    "q_obs = auc(df['days'].values,df['adjusted_discharge'].values)\n",
    "q_obs"
   ]
  }
 ],
 "metadata": {
  "kernelspec": {
   "display_name": "base",
   "language": "python",
   "name": "python3"
  },
  "language_info": {
   "codemirror_mode": {
    "name": "ipython",
    "version": 3
   },
   "file_extension": ".py",
   "mimetype": "text/x-python",
   "name": "python",
   "nbconvert_exporter": "python",
   "pygments_lexer": "ipython3",
   "version": "3.11.5"
  }
 },
 "nbformat": 4,
 "nbformat_minor": 2
}
