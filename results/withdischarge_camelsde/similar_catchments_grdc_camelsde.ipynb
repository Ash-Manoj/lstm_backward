{
 "cells": [
  {
   "cell_type": "code",
   "execution_count": 1,
   "metadata": {},
   "outputs": [
    {
     "ename": "ModuleNotFoundError",
     "evalue": "No module named 'geopy'",
     "output_type": "error",
     "traceback": [
      "\u001b[1;31m---------------------------------------------------------------------------\u001b[0m",
      "\u001b[1;31mModuleNotFoundError\u001b[0m                       Traceback (most recent call last)",
      "Cell \u001b[1;32mIn[1], line 2\u001b[0m\n\u001b[0;32m      1\u001b[0m \u001b[38;5;28;01mimport\u001b[39;00m \u001b[38;5;21;01mpandas\u001b[39;00m \u001b[38;5;28;01mas\u001b[39;00m \u001b[38;5;21;01mpd\u001b[39;00m\n\u001b[1;32m----> 2\u001b[0m \u001b[38;5;28;01mfrom\u001b[39;00m \u001b[38;5;21;01mgeopy\u001b[39;00m\u001b[38;5;21;01m.\u001b[39;00m\u001b[38;5;21;01mdistance\u001b[39;00m \u001b[38;5;28;01mimport\u001b[39;00m geodesic\n\u001b[0;32m      3\u001b[0m \u001b[38;5;28;01mfrom\u001b[39;00m \u001b[38;5;21;01msklearn\u001b[39;00m\u001b[38;5;21;01m.\u001b[39;00m\u001b[38;5;21;01mneighbors\u001b[39;00m \u001b[38;5;28;01mimport\u001b[39;00m BallTree\n\u001b[0;32m      4\u001b[0m \u001b[38;5;28;01mimport\u001b[39;00m \u001b[38;5;21;01mnumpy\u001b[39;00m \u001b[38;5;28;01mas\u001b[39;00m \u001b[38;5;21;01mnp\u001b[39;00m\n",
      "\u001b[1;31mModuleNotFoundError\u001b[0m: No module named 'geopy'"
     ]
    }
   ],
   "source": [
    "import pandas as pd\n",
    "from geopy.distance import geodesic\n",
    "from sklearn.neighbors import BallTree\n",
    "import numpy as np"
   ]
  },
  {
   "cell_type": "code",
   "execution_count": 2,
   "metadata": {},
   "outputs": [
    {
     "name": "stdout",
     "output_type": "stream",
     "text": [
      "Collecting geopy\n",
      "  Obtaining dependency information for geopy from https://files.pythonhosted.org/packages/e5/15/cf2a69ade4b194aa524ac75112d5caac37414b20a3a03e6865dfe0bd1539/geopy-2.4.1-py3-none-any.whl.metadata\n",
      "  Downloading geopy-2.4.1-py3-none-any.whl.metadata (6.8 kB)\n",
      "Collecting geographiclib<3,>=1.52 (from geopy)\n",
      "  Obtaining dependency information for geographiclib<3,>=1.52 from https://files.pythonhosted.org/packages/9f/5a/a26132406f1f40cf51ea349a5f11b0a46cec02a2031ff82e391c2537247a/geographiclib-2.0-py3-none-any.whl.metadata\n",
      "  Downloading geographiclib-2.0-py3-none-any.whl.metadata (1.4 kB)\n",
      "Downloading geopy-2.4.1-py3-none-any.whl (125 kB)\n",
      "   ---------------------------------------- 0.0/125.4 kB ? eta -:--:--\n",
      "   --- ------------------------------------ 10.2/125.4 kB ? eta -:--:--\n",
      "   ----------------------------------- ---- 112.6/125.4 kB 1.6 MB/s eta 0:00:01\n",
      "   ---------------------------------------  122.9/125.4 kB 1.8 MB/s eta 0:00:01\n",
      "   ---------------------------------------  122.9/125.4 kB 1.8 MB/s eta 0:00:01\n",
      "   ---------------------------------------  122.9/125.4 kB 1.8 MB/s eta 0:00:01\n",
      "   -------------------------------------- 125.4/125.4 kB 526.0 kB/s eta 0:00:00\n",
      "Downloading geographiclib-2.0-py3-none-any.whl (40 kB)\n",
      "   ---------------------------------------- 0.0/40.3 kB ? eta -:--:--\n",
      "   ------------------------------ --------- 30.7/40.3 kB ? eta -:--:--\n",
      "   ------------------------------ --------- 30.7/40.3 kB ? eta -:--:--\n",
      "   ------------------------------ --------- 30.7/40.3 kB ? eta -:--:--\n",
      "   ---------------------------------------- 40.3/40.3 kB 174.9 kB/s eta 0:00:00\n",
      "Installing collected packages: geographiclib, geopy\n",
      "Successfully installed geographiclib-2.0 geopy-2.4.1\n"
     ]
    }
   ],
   "source": [
    "!pip install geopy"
   ]
  },
  {
   "cell_type": "code",
   "execution_count": null,
   "metadata": {},
   "outputs": [],
   "source": [
    "import pandas as pd\n",
    "from geopy.distance import geodesic\n",
    "from sklearn.neighbors import BallTree\n",
    "import numpy as np\n",
    "\n",
    "# Load the CSV files\n",
    "camelsde_df = pd.read_csv('attributes_other_camelsde.csv')\n",
    "grdc_df = pd.read_csv('attributes_other_grdc.csv')\n",
    "\n",
    "# Create a BallTree for efficient spatial search\n",
    "camelsde_coords = np.radians(camelsde_df[['gauge_lat', 'gauge_lon']])\n",
    "grdc_coords = np.radians(grdc_df[['gauge_lat', 'gauge_lon']])\n",
    "\n",
    "tree = BallTree(camelsde_coords, metric='haversine')\n",
    "\n",
    "# Query the GRDC coordinates within a 10 km radius (convert km to radians)\n",
    "radius = 10 / 6371  # Earth's radius in km\n",
    "indices = tree.query_radius(grdc_coords, r=radius)\n",
    "\n",
    "# Collect matching catchments\n",
    "matches = []\n",
    "for grdc_idx, camelsde_idxs in enumerate(indices):\n",
    "    grdc_row = grdc_df.iloc[grdc_idx]\n",
    "    for camelsde_idx in camelsde_idxs:\n",
    "        camelsde_row = camelsde_df.iloc[camelsde_idx]\n",
    "        distance = geodesic(\n",
    "            (grdc_row['gauge_lat'], grdc_row['gauge_lon']),\n",
    "            (camelsde_row['gauge_lat'], camelsde_row['gauge_lon'])\n",
    "        ).km\n",
    "        \n",
    "        matches.append({\n",
    "            'grdc_gauge_name': grdc_row['gauge_name'],\n",
    "            'grdc_lat': grdc_row['gauge_lat'],\n",
    "            'grdc_lon': grdc_row['gauge_lon'],\n",
    "            'camelsde_gauge_name': camelsde_row['gauge_name'],\n",
    "            'camelsde_lat': camelsde_row['gauge_lat'],\n",
    "            'camelsde_lon': camelsde_row['gauge_lon'],\n",
    "            'distance_km': round(distance, 2)\n",
    "        })\n",
    "\n",
    "# Convert to DataFrame and save to CSV\n",
    "similar_catchments = pd.DataFrame(matches)\n",
    "similar_catchments.to_csv('similar_catchments_10km.csv', index=False)\n",
    "\n",
    "print(\"The file 'similar_catchments_10km.csv' has been saved.\")\n"
   ]
  },
  {
   "cell_type": "code",
   "execution_count": 5,
   "metadata": {},
   "outputs": [
    {
     "name": "stdout",
     "output_type": "stream",
     "text": [
      "Requirement already satisfied: numpy in c:\\users\\as2023\\appdata\\local\\programs\\python\\python312\\lib\\site-packages (2.2.2)\n",
      "Note: you may need to restart the kernel to use updated packages.\n"
     ]
    },
    {
     "name": "stderr",
     "output_type": "stream",
     "text": [
      "\n",
      "[notice] A new release of pip is available: 23.2.1 -> 24.3.1\n",
      "[notice] To update, run: python.exe -m pip install --upgrade pip\n"
     ]
    }
   ],
   "source": [
    "pip install numpy"
   ]
  },
  {
   "cell_type": "code",
   "execution_count": 6,
   "metadata": {},
   "outputs": [],
   "source": [
    "import pandas as pd\n",
    "import numpy as np"
   ]
  },
  {
   "cell_type": "code",
   "execution_count": 7,
   "metadata": {},
   "outputs": [],
   "source": [
    "# Load the two uploaded files\n",
    "file_camelsgb = r\"S:\\ashish\\01_Analysis\\01_Europe_Flood_Analysis\\Caravan\\Caravan\\attributes\\camelsgb\\attributes_other_camelsgb.csv\"\n",
    "file_grdc = r\"S:\\ashish\\01_Analysis\\01_Europe_Flood_Analysis\\Caravan\\Caravan\\attributes\\grdc\\attributes_other_grdc.csv\""
   ]
  },
  {
   "cell_type": "code",
   "execution_count": 8,
   "metadata": {},
   "outputs": [
    {
     "data": {
      "text/plain": [
       "(         gauge_id               gauge_name   country  gauge_lat  gauge_lon  \\\n",
       " 0  camelsgb_10002        Ugie at Inverugie  Scotland  57.526691  -1.832792   \n",
       " 1  camelsgb_10003           Ythan at Ellon  Scotland  57.363771  -2.090017   \n",
       " 2   camelsgb_1001          Wick at Tarroul  Scotland  58.476196  -3.267061   \n",
       " 3  camelsgb_11001          Don at Parkhill  Scotland  57.218321  -2.187586   \n",
       " 4  camelsgb_11003  Don at Bridge of Alford  Scotland  57.242303  -2.717123   \n",
       " \n",
       "           area  \n",
       " 0   324.312351  \n",
       " 1   529.992466  \n",
       " 2   157.445096  \n",
       " 3  1263.679903  \n",
       " 4   507.721760  ,\n",
       "        gauge_id  gauge_lat  gauge_lon                             gauge_name  \\\n",
       " 0  GRDC_1159100   -28.7563    17.7188    ORANGE RIVER, VIOOLSDRIF (27811003)   \n",
       " 1  GRDC_1159103   -28.9604    19.1521            ORANGE RIVER, PELLA MISSION   \n",
       " 2  GRDC_1159105   -28.0771    16.8979           ORANGE RIVER, SENDELINGSDRIF   \n",
       " 3  GRDC_1159110   -31.8030    20.3560  VISRIVIER-OOS, HARDEHEUWEL (27814003)   \n",
       " 4  GRDC_1159120   -31.8220    20.5780   RENOSTERRIVIER, BONEKRAAL (27814011)   \n",
       " \n",
       "         country           area  \n",
       " 0  South Africa  786037.238696  \n",
       " 1  South Africa  764465.717681  \n",
       " 2  South Africa  881178.214620  \n",
       " 3  South Africa    1496.140919  \n",
       " 4  South Africa    1666.590629  )"
      ]
     },
     "execution_count": 8,
     "metadata": {},
     "output_type": "execute_result"
    }
   ],
   "source": [
    "camelsgb_data = pd.read_csv(file_camelsgb)\n",
    "grdc_data = pd.read_csv(file_grdc)\n",
    "\n",
    "# Check the first few rows to confirm structure and find the 'area' column\n",
    "camelsgb_data.head(), grdc_data.head()"
   ]
  },
  {
   "cell_type": "code",
   "execution_count": 9,
   "metadata": {},
   "outputs": [],
   "source": [
    "import numpy as np\n",
    "\n",
    "# Combine the area columns from both datasets\n",
    "combined_area = pd.concat([camelsgb_data['area'], grdc_data['area']], axis=0)"
   ]
  },
  {
   "cell_type": "code",
   "execution_count": 10,
   "metadata": {},
   "outputs": [
    {
     "data": {
      "text/html": [
       "<div>\n",
       "<style scoped>\n",
       "    .dataframe tbody tr th:only-of-type {\n",
       "        vertical-align: middle;\n",
       "    }\n",
       "\n",
       "    .dataframe tbody tr th {\n",
       "        vertical-align: top;\n",
       "    }\n",
       "\n",
       "    .dataframe thead th {\n",
       "        text-align: right;\n",
       "    }\n",
       "</style>\n",
       "<table border=\"1\" class=\"dataframe\">\n",
       "  <thead>\n",
       "    <tr style=\"text-align: right;\">\n",
       "      <th></th>\n",
       "      <th>Log Bin Range</th>\n",
       "      <th>Frequency</th>\n",
       "    </tr>\n",
       "  </thead>\n",
       "  <tbody>\n",
       "    <tr>\n",
       "      <th>0</th>\n",
       "      <td>10 - 100</td>\n",
       "      <td>491</td>\n",
       "    </tr>\n",
       "    <tr>\n",
       "      <th>1</th>\n",
       "      <td>100 - 1000</td>\n",
       "      <td>1963</td>\n",
       "    </tr>\n",
       "    <tr>\n",
       "      <th>2</th>\n",
       "      <td>1000 - 10000</td>\n",
       "      <td>1967</td>\n",
       "    </tr>\n",
       "    <tr>\n",
       "      <th>3</th>\n",
       "      <td>10000 - 100000</td>\n",
       "      <td>1044</td>\n",
       "    </tr>\n",
       "    <tr>\n",
       "      <th>4</th>\n",
       "      <td>100000 - 1000000</td>\n",
       "      <td>226</td>\n",
       "    </tr>\n",
       "    <tr>\n",
       "      <th>5</th>\n",
       "      <td>1000000 - 10000000</td>\n",
       "      <td>30</td>\n",
       "    </tr>\n",
       "  </tbody>\n",
       "</table>\n",
       "</div>"
      ],
      "text/plain": [
       "        Log Bin Range  Frequency\n",
       "0            10 - 100        491\n",
       "1          100 - 1000       1963\n",
       "2        1000 - 10000       1967\n",
       "3      10000 - 100000       1044\n",
       "4    100000 - 1000000        226\n",
       "5  1000000 - 10000000         30"
      ]
     },
     "execution_count": 10,
     "metadata": {},
     "output_type": "execute_result"
    }
   ],
   "source": [
    "# Define logarithmic bins\n",
    "log_bins = [10**i for i in range(1, 8)]  # Bins: 10, 100, 1000, ..., 10,000,000\n",
    "\n",
    "# Calculate frequencies for logarithmic bins\n",
    "log_histogram, log_bin_edges = np.histogram(combined_area, bins=log_bins)\n",
    "\n",
    "# Prepare a table for the log-bin distribution\n",
    "log_distribution_table = pd.DataFrame({\n",
    "    \"Log Bin Range\": [f\"{int(log_bin_edges[i])} - {int(log_bin_edges[i+1])}\" for i in range(len(log_bin_edges)-1)],\n",
    "    \"Frequency\": log_histogram\n",
    "})\n",
    "\n",
    "log_distribution_table"
   ]
  },
  {
   "cell_type": "code",
   "execution_count": 12,
   "metadata": {},
   "outputs": [
    {
     "name": "stdout",
     "output_type": "stream",
     "text": [
      "Note: you may need to restart the kernel to use updated packages.\n"
     ]
    },
    {
     "name": "stderr",
     "output_type": "stream",
     "text": [
      "ERROR: Could not find a version that satisfies the requirement matplotlib.pyplot (from versions: none)\n",
      "ERROR: No matching distribution found for matplotlib.pyplot\n",
      "\n",
      "[notice] A new release of pip is available: 23.2.1 -> 24.3.1\n",
      "[notice] To update, run: python.exe -m pip install --upgrade pip\n"
     ]
    }
   ],
   "source": [
    "pip install matplotlib.pyplot "
   ]
  },
  {
   "cell_type": "code",
   "execution_count": 15,
   "metadata": {},
   "outputs": [
    {
     "name": "stdout",
     "output_type": "stream",
     "text": [
      "  Bin Range  Frequency\n",
      "0    0 - 10         44\n",
      "1   10 - 20         83\n",
      "2   20 - 30         75\n",
      "3   30 - 40         52\n",
      "4   40 - 50         49\n",
      "5   50 - 60         59\n",
      "6   60 - 70         34\n",
      "7   70 - 80         50\n",
      "8   80 - 90         49\n",
      "9  90 - 100         40\n"
     ]
    }
   ],
   "source": [
    "# Create histogram bins of size 10\n",
    "# Filter data for areas between 0 and 100\n",
    "filtered_area = combined_area[combined_area <= 100]\n",
    "bins = np.arange(0, 110, 10)  # Bins: 0-10, 10-20, ..., 90-100\n",
    "histogram, bin_edges = np.histogram(filtered_area, bins=bins)\n",
    "\n",
    "# Create a histogram table\n",
    "histogram_table = pd.DataFrame({\n",
    "    \"Bin Range\": [f\"{bin_edges[i]} - {bin_edges[i+1]}\" for i in range(len(bin_edges)-1)],\n",
    "    \"Frequency\": histogram\n",
    "})\n",
    "\n",
    "print(histogram_table)"
   ]
  }
 ],
 "metadata": {
  "kernelspec": {
   "display_name": "Python 3",
   "language": "python",
   "name": "python3"
  },
  "language_info": {
   "codemirror_mode": {
    "name": "ipython",
    "version": 3
   },
   "file_extension": ".py",
   "mimetype": "text/x-python",
   "name": "python",
   "nbconvert_exporter": "python",
   "pygments_lexer": "ipython3",
   "version": "3.12.0"
  }
 },
 "nbformat": 4,
 "nbformat_minor": 2
}
