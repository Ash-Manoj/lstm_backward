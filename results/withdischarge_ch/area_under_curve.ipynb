{
 "cells": [
  {
   "cell_type": "code",
   "execution_count": 1,
   "metadata": {},
   "outputs": [],
   "source": [
    "import pandas as pd\n",
    "import numpy as np\n",
    "import matplotlib.pyplot as plt\n",
    "import seaborn as sns\n",
    "from sklearn.metrics import auc\n",
    "from scipy.integrate import simps"
   ]
  },
  {
   "cell_type": "code",
   "execution_count": 2,
   "metadata": {},
   "outputs": [],
   "source": [
    "#Area calculations for Runoff coefficient\n",
    "file_path = r'y_obs.csv'\n",
    "y_obs = pd.read_csv(file_path, parse_dates=[0])\n",
    "# Set the unnamed first column (dates) as the index\n",
    "y_obs.set_index(y_obs.columns[0],inplace=True)\n",
    "#y_obs = y_obs.to_numpy()\n",
    "file_path = r'y_sim.csv'\n",
    "y_sim = pd.read_csv(file_path, parse_dates=[0])\n",
    "# Set the unnamed first column (dates) as the index\n",
    "y_sim.set_index(y_sim.columns[0],inplace=True)\n",
    "#y_sim = y_sim.to_numpy()\n",
    "streamflow_df = pd.read_csv(r'camelsch_4003.csv', parse_dates=True, index_col=0)\n",
    "eobs_df = pd.read_csv(r'precip_eobs_camelsch_4003.csv', parse_dates=True, index_col=0)\n"
   ]
  },
  {
   "cell_type": "code",
   "execution_count": 18,
   "metadata": {},
   "outputs": [
    {
     "data": {
      "text/plain": [
       "28.549999999999997"
      ]
     },
     "execution_count": 18,
     "metadata": {},
     "output_type": "execute_result"
    }
   ],
   "source": [
    "#ERA5 Land\n",
    "start_date = '2014-10-18'\n",
    "end_date = '2014-10-24'\n",
    "catchment = 'camelsch_4003' \n",
    "y_obs_filtered = y_obs.loc[start_date:end_date, catchment]\n",
    "df = pd.DataFrame(y_obs_filtered)\n",
    "df['Unnamed: 0'] = pd.to_datetime(df.index)\n",
    "\n",
    "# Calculate the area under the curve using the trapezoidal rule\n",
    "y = df[catchment].values\n",
    "x = (df['Unnamed: 0'] - df['Unnamed: 0'].min()).dt.days.values\n",
    "\n",
    "# Use the trapezoidal rule to calculate the area under the curve\n",
    "p_era5 = auc(x,y)\n",
    "p_era5"
   ]
  },
  {
   "cell_type": "code",
   "execution_count": 6,
   "metadata": {},
   "outputs": [
    {
     "data": {
      "text/plain": [
       "44.68457197"
      ]
     },
     "execution_count": 6,
     "metadata": {},
     "output_type": "execute_result"
    }
   ],
   "source": [
    "#LSTM\n",
    "start_date = '2014-10-18'\n",
    "end_date = '2014-10-24'\n",
    "catchment = 'camelsch_4003' \n",
    "#P_lstm\n",
    "y_sim_filtered = y_sim.loc[start_date:end_date, catchment]\n",
    "df = pd.DataFrame(y_sim_filtered)\n",
    "df['Unnamed: 0'] = pd.to_datetime(df.index)\n",
    "\n",
    "# Calculate the area under the curve using the trapezoidal rule\n",
    "y = df[catchment].values\n",
    "x = (df['Unnamed: 0'] - df['Unnamed: 0'].min()).dt.days.values\n",
    "\n",
    "# Use the trapezoidal rule to calculate the area under the curve\n",
    "p_lstm = auc(x,y)\n",
    "p_lstm"
   ]
  },
  {
   "cell_type": "code",
   "execution_count": 8,
   "metadata": {},
   "outputs": [
    {
     "data": {
      "text/plain": [
       "42.33093082244527"
      ]
     },
     "execution_count": 8,
     "metadata": {},
     "output_type": "execute_result"
    }
   ],
   "source": [
    "#eobs\n",
    "start_date = '2014-10-19'\n",
    "end_date = '2014-10-23'\n",
    "catchment = 'camelsch_4003' \n",
    "#P_eobs\n",
    "eobs_df = eobs_df.loc[start_date:end_date,:]\n",
    "df = pd.DataFrame(eobs_df)\n",
    "df['Unnamed: 0'] = pd.to_datetime(df.index)\n",
    "\n",
    "# Calculate the area under the curve using the trapezoidal rule\n",
    "y = df['value'].values\n",
    "x = (df['Unnamed: 0'] - df['Unnamed: 0'].min()).dt.days.values\n",
    "\n",
    "# Use the trapezoidal rule to calculate the area under the curve\n",
    "p_eobs = auc(x,y)\n",
    "p_eobs"
   ]
  },
  {
   "cell_type": "code",
   "execution_count": 19,
   "metadata": {},
   "outputs": [
    {
     "data": {
      "text/plain": [
       "18.94"
      ]
     },
     "execution_count": 19,
     "metadata": {},
     "output_type": "execute_result"
    }
   ],
   "source": [
    "start_date = '2014-10-20'\n",
    "end_date = '2014-11-04'\n",
    "catchment = 'camelsch_4003' \n",
    "streamflow_filtered = streamflow_df.loc[start_date:end_date, 'streamflow']\n",
    "df=pd.DataFrame(streamflow_filtered)\n",
    "# Subtract the constant baseflow value (e.g., 2)\n",
    "baseflow_value = 1.52\n",
    "df['adjusted_discharge'] = df['streamflow'] - baseflow_value\n",
    "df['date'] = pd.to_datetime(df.index)\n",
    "# Convert dates to numerical values (e.g., number of days since the start)\n",
    "df['days'] = (df['date'] - df['date'].min()).dt.days\n",
    "q_obs = auc(df['days'].values,df['adjusted_discharge'].values)\n",
    "q_obs"
   ]
  }
 ],
 "metadata": {
  "kernelspec": {
   "display_name": "base",
   "language": "python",
   "name": "python3"
  },
  "language_info": {
   "codemirror_mode": {
    "name": "ipython",
    "version": 3
   },
   "file_extension": ".py",
   "mimetype": "text/x-python",
   "name": "python",
   "nbconvert_exporter": "python",
   "pygments_lexer": "ipython3",
   "version": "3.11.5"
  }
 },
 "nbformat": 4,
 "nbformat_minor": 2
}
