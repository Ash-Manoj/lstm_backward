{
 "cells": [
  {
   "cell_type": "code",
   "execution_count": 2,
   "metadata": {},
   "outputs": [],
   "source": [
    "import pandas as pd\n",
    "import numpy as np\n",
    "import matplotlib.pyplot as plt\n",
    "import seaborn as sns\n",
    "from sklearn.metrics import auc\n",
    "from scipy.integrate import simps"
   ]
  },
  {
   "cell_type": "code",
   "execution_count": 4,
   "metadata": {},
   "outputs": [],
   "source": [
    "#Area calculations for Runoff coefficient\n",
    "file_path = r'y_obs.csv'\n",
    "y_obs = pd.read_csv(file_path, parse_dates=[0])\n",
    "# Set the unnamed first column (dates) as the index\n",
    "y_obs.set_index(y_obs.columns[0],inplace=True)\n",
    "#y_obs = y_obs.to_numpy()\n",
    "file_path = r'y_sim.csv'\n",
    "y_sim = pd.read_csv(file_path, parse_dates=[0])\n",
    "# Set the unnamed first column (dates) as the index\n",
    "y_sim.set_index(y_sim.columns[0],inplace=True)\n",
    "#y_sim = y_sim.to_numpy()\n",
    "streamflow_df = pd.read_csv(r'camelslx_055.csv', parse_dates=True, index_col=0)\n",
    "eobs_df = pd.read_csv(r'precip_eobs_camelslx_55.csv', parse_dates=True, index_col=0)\n"
   ]
  },
  {
   "cell_type": "code",
   "execution_count": 8,
   "metadata": {},
   "outputs": [
    {
     "data": {
      "text/plain": [
       "9.155"
      ]
     },
     "execution_count": 8,
     "metadata": {},
     "output_type": "execute_result"
    }
   ],
   "source": [
    "#ERA5 Land\n",
    "start_date = '2018-05-29'\n",
    "end_date = '2018-06-02'\n",
    "catchment = 'camelslx_055' \n",
    "y_obs_filtered = y_obs.loc[start_date:end_date, catchment]\n",
    "df = pd.DataFrame(y_obs_filtered)\n",
    "df['Unnamed: 0'] = pd.to_datetime(df.index)\n",
    "\n",
    "# Calculate the area under the curve using the trapezoidal rule\n",
    "y = df[catchment].values\n",
    "x = (df['Unnamed: 0'] - df['Unnamed: 0'].min()).dt.days.values\n",
    "\n",
    "\n",
    "p_era5 = auc(x,y)\n",
    "p_era5"
   ]
  },
  {
   "cell_type": "code",
   "execution_count": 9,
   "metadata": {},
   "outputs": [
    {
     "data": {
      "text/plain": [
       "23.4931833"
      ]
     },
     "execution_count": 9,
     "metadata": {},
     "output_type": "execute_result"
    }
   ],
   "source": [
    "start_date = '2018-05-30'\n",
    "end_date = '2018-06-04'\n",
    "catchment = 'camelslx_055' \n",
    "#P_lstm\n",
    "y_sim_filtered = y_sim.loc[start_date:end_date, catchment]\n",
    "df = pd.DataFrame(y_sim_filtered)\n",
    "df['Unnamed: 0'] = pd.to_datetime(df.index)\n",
    "\n",
    "# Calculate the area under the curve using the trapezoidal rule\n",
    "y = df[catchment].values\n",
    "x = (df['Unnamed: 0'] - df['Unnamed: 0'].min()).dt.days.values\n",
    "\n",
    "# Use the trapezoidal rule to calculate the area under the curve\n",
    "p_lstm = auc(x,y)\n",
    "p_lstm"
   ]
  },
  {
   "cell_type": "code",
   "execution_count": 15,
   "metadata": {},
   "outputs": [
    {
     "data": {
      "text/plain": [
       "49.43163338964991"
      ]
     },
     "execution_count": 15,
     "metadata": {},
     "output_type": "execute_result"
    }
   ],
   "source": [
    "start_date = '2018-05-29'\n",
    "end_date = '2018-06-04'\n",
    "catchment = 'camelslx_055' \n",
    "#P_eobs\n",
    "eobs_df = eobs_df.loc[start_date:end_date,:]\n",
    "df = pd.DataFrame(eobs_df)\n",
    "df['Unnamed: 0'] = pd.to_datetime(df.index)\n",
    "\n",
    "# Calculate the area under the curve using the trapezoidal rule\n",
    "y = df['value'].values\n",
    "x = (df['Unnamed: 0'] - df['Unnamed: 0'].min()).dt.days.values\n",
    "\n",
    "# Use the trapezoidal rule to calculate the area under the curve\n",
    "p_eobs = auc(x,y)\n",
    "p_eobs"
   ]
  },
  {
   "cell_type": "code",
   "execution_count": 21,
   "metadata": {},
   "outputs": [
    {
     "data": {
      "text/plain": [
       "27.115"
      ]
     },
     "execution_count": 21,
     "metadata": {},
     "output_type": "execute_result"
    }
   ],
   "source": [
    "start_date = '2018-05-30'\n",
    "end_date = '2018-06-05'\n",
    "catchment = 'camelslx_055' \n",
    "streamflow_filtered = streamflow_df.loc[start_date:end_date, 'streamflow']\n",
    "df=pd.DataFrame(streamflow_filtered)\n",
    "# Subtract the constant baseflow value (e.g., 2)\n",
    "baseflow_value = 1\n",
    "df['adjusted_discharge'] = df['streamflow'] - baseflow_value\n",
    "df['date'] = pd.to_datetime(df.index)\n",
    "# Convert dates to numerical values (e.g., number of days since the start)\n",
    "df['days'] = (df['date'] - df['date'].min()).dt.days\n",
    "q_obs = auc(df['days'].values,df['adjusted_discharge'].values)\n",
    "q_obs"
   ]
  }
 ],
 "metadata": {
  "kernelspec": {
   "display_name": "base",
   "language": "python",
   "name": "python3"
  },
  "language_info": {
   "codemirror_mode": {
    "name": "ipython",
    "version": 3
   },
   "file_extension": ".py",
   "mimetype": "text/x-python",
   "name": "python",
   "nbconvert_exporter": "python",
   "pygments_lexer": "ipython3",
   "version": "3.11.5"
  }
 },
 "nbformat": 4,
 "nbformat_minor": 2
}
